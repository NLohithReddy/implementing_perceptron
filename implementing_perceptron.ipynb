{
  "nbformat": 4,
  "nbformat_minor": 0,
  "metadata": {
    "colab": {
      "provenance": [],
      "authorship_tag": "ABX9TyNbxgzIhMu7iPF7QjHxj2JN",
      "include_colab_link": true
    },
    "kernelspec": {
      "name": "python3",
      "display_name": "Python 3"
    },
    "language_info": {
      "name": "python"
    }
  },
  "cells": [
    {
      "cell_type": "markdown",
      "metadata": {
        "id": "view-in-github",
        "colab_type": "text"
      },
      "source": [
        "<a href=\"https://colab.research.google.com/github/NLohithReddy/implementing_perceptron/blob/main/implementing_perceptron.ipynb\" target=\"_parent\"><img src=\"https://colab.research.google.com/assets/colab-badge.svg\" alt=\"Open In Colab\"/></a>"
      ]
    },
    {
      "cell_type": "code",
      "execution_count": null,
      "metadata": {
        "id": "zlOebPUObCp5"
      },
      "outputs": [],
      "source": [
        "# Import the libraries and dataset\n",
        "import numpy as np\n",
        "from sklearn.model_selection import train_test_split\n",
        "import matplotlib.pyplot as plt\n",
        "# We will be using the Iris Plants Database\n",
        "from sklearn.datasets import load_iris\n",
        "\n",
        "SEED = 2017"
      ]
    },
    {
      "cell_type": "code",
      "source": [
        "iris = load_iris()\n",
        "idxs = np.where(iris.target<2)\n",
        "X = iris.data[idxs]\n",
        "y = iris.target[idxs]"
      ],
      "metadata": {
        "id": "NX4EuEqfduLn"
      },
      "execution_count": null,
      "outputs": []
    },
    {
      "cell_type": "code",
      "source": [
        "y"
      ],
      "metadata": {
        "colab": {
          "base_uri": "https://localhost:8080/"
        },
        "id": "y8DYd3oVduWZ",
        "outputId": "a881847f-2d91-42c0-a7db-b7bbd876cd06"
      },
      "execution_count": null,
      "outputs": [
        {
          "output_type": "execute_result",
          "data": {
            "text/plain": [
              "array([0, 0, 0, 0, 0, 0, 0, 0, 0, 0, 0, 0, 0, 0, 0, 0, 0, 0, 0, 0, 0, 0,\n",
              "       0, 0, 0, 0, 0, 0, 0, 0, 0, 0, 0, 0, 0, 0, 0, 0, 0, 0, 0, 0, 0, 0,\n",
              "       0, 0, 0, 0, 0, 0, 1, 1, 1, 1, 1, 1, 1, 1, 1, 1, 1, 1, 1, 1, 1, 1,\n",
              "       1, 1, 1, 1, 1, 1, 1, 1, 1, 1, 1, 1, 1, 1, 1, 1, 1, 1, 1, 1, 1, 1,\n",
              "       1, 1, 1, 1, 1, 1, 1, 1, 1, 1, 1, 1])"
            ]
          },
          "metadata": {},
          "execution_count": 16
        }
      ]
    },
    {
      "cell_type": "code",
      "source": [
        "plt.scatter(X[y==0][:,0],X[y==0][:,2], color='green', label='Iris-Setosa')\n",
        "plt.scatter(X[y==1][:,0],X[y==1][:,2], color='red', label='Iris-Versicolour')\n",
        "plt.title('Iris Plants Database')\n",
        "plt.xlabel('sepal length in cm')\n",
        "plt.ylabel('sepal width in cm')\n",
        "plt.legend()\n",
        "plt.show()"
      ],
      "metadata": {
        "colab": {
          "base_uri": "https://localhost:8080/",
          "height": 472
        },
        "id": "YjS4U3j7duZK",
        "outputId": "58914406-b692-47b8-ddd9-4f704e33fe64"
      },
      "execution_count": null,
      "outputs": [
        {
          "output_type": "display_data",
          "data": {
            "text/plain": [
              "<Figure size 640x480 with 1 Axes>"
            ],
            "image/png": "[encoded data removed]"
          },
          "metadata": {}
        }
      ]
    },
    {
      "cell_type": "code",
      "source": [
        "X_train, X_val, y_train, y_val = train_test_split(X, y, test_size=0.2, random_state=SEED)"
      ],
      "metadata": {
        "id": "cZNNMi5Mdubp"
      },
      "execution_count": null,
      "outputs": []
    },
    {
      "cell_type": "code",
      "source": [
        "print(X_train)\n",
        "print(X_val)\n",
        "print(y_train)\n",
        "print(y_val)"
      ],
      "metadata": {
        "colab": {
          "base_uri": "https://localhost:8080/"
        },
        "id": "u2a9PYIBdud9",
        "outputId": "3aad0b2a-8a1f-4625-e14c-3ad3b791e2de"
      },
      "execution_count": null,
      "outputs": [
        {
          "output_type": "stream",
          "name": "stdout",
          "text": [
            "[[6.4 2.9 4.3 1.3]\n",
            " [6.1 2.8 4.7 1.2]\n",
            " [6.4 3.2 4.5 1.5]\n",
            " [6.  3.4 4.5 1.6]\n",
            " [5.1 3.4 1.5 0.2]\n",
            " [4.9 3.6 1.4 0.1]\n",
            " [4.7 3.2 1.6 0.2]\n",
            " [5.6 2.7 4.2 1.3]\n",
            " [5.5 2.4 3.8 1.1]\n",
            " [5.1 3.8 1.9 0.4]\n",
            " [5.  3.  1.6 0.2]\n",
            " [5.5 2.5 4.  1.3]\n",
            " [5.7 3.8 1.7 0.3]\n",
            " [4.8 3.  1.4 0.3]\n",
            " [5.8 4.  1.2 0.2]\n",
            " [6.6 3.  4.4 1.4]\n",
            " [5.2 4.1 1.5 0.1]\n",
            " [5.2 3.5 1.5 0.2]\n",
            " [5.7 2.8 4.5 1.3]\n",
            " [4.9 2.4 3.3 1. ]\n",
            " [5.  3.6 1.4 0.2]\n",
            " [6.3 3.3 4.7 1.6]\n",
            " [6.1 3.  4.6 1.4]\n",
            " [5.  2.3 3.3 1. ]\n",
            " [6.1 2.9 4.7 1.4]\n",
            " [5.5 2.4 3.7 1. ]\n",
            " [5.7 2.8 4.1 1.3]\n",
            " [4.6 3.4 1.4 0.3]\n",
            " [4.8 3.4 1.9 0.2]\n",
            " [6.7 3.1 4.7 1.5]\n",
            " [5.1 3.3 1.7 0.5]\n",
            " [4.5 2.3 1.3 0.3]\n",
            " [5.6 3.  4.1 1.3]\n",
            " [5.4 3.4 1.5 0.4]\n",
            " [5.1 3.8 1.6 0.2]\n",
            " [6.7 3.  5.  1.7]\n",
            " [5.1 3.8 1.5 0.3]\n",
            " [4.9 3.  1.4 0.2]\n",
            " [5.1 3.7 1.5 0.4]\n",
            " [5.7 3.  4.2 1.2]\n",
            " [5.8 2.7 3.9 1.2]\n",
            " [5.5 2.3 4.  1.3]\n",
            " [6.5 2.8 4.6 1.5]\n",
            " [5.9 3.  4.2 1.5]\n",
            " [5.4 3.9 1.3 0.4]\n",
            " [6.2 2.2 4.5 1.5]\n",
            " [5.5 3.5 1.3 0.2]\n",
            " [5.4 3.7 1.5 0.2]\n",
            " [5.1 2.5 3.  1.1]\n",
            " [4.8 3.1 1.6 0.2]\n",
            " [6.3 2.3 4.4 1.3]\n",
            " [5.  3.5 1.6 0.6]\n",
            " [5.6 2.9 3.6 1.3]\n",
            " [6.7 3.1 4.4 1.4]\n",
            " [5.6 2.5 3.9 1.1]\n",
            " [5.7 2.6 3.5 1. ]\n",
            " [6.1 2.8 4.  1.3]\n",
            " [5.  3.3 1.4 0.2]\n",
            " [5.7 2.9 4.2 1.3]\n",
            " [5.  3.2 1.2 0.2]\n",
            " [5.8 2.6 4.  1.2]\n",
            " [4.7 3.2 1.3 0.2]\n",
            " [5.2 3.4 1.4 0.2]\n",
            " [6.  2.7 5.1 1.6]\n",
            " [4.4 3.  1.3 0.2]\n",
            " [5.  3.5 1.3 0.3]\n",
            " [5.1 3.5 1.4 0.2]\n",
            " [6.3 2.5 4.9 1.5]\n",
            " [5.7 4.4 1.5 0.4]\n",
            " [5.  3.4 1.5 0.2]\n",
            " [4.6 3.2 1.4 0.2]\n",
            " [4.6 3.1 1.5 0.2]\n",
            " [6.6 2.9 4.6 1.3]\n",
            " [7.  3.2 4.7 1.4]\n",
            " [4.4 2.9 1.4 0.2]\n",
            " [4.4 3.2 1.3 0.2]\n",
            " [4.3 3.  1.1 0.1]\n",
            " [5.9 3.2 4.8 1.8]\n",
            " [4.9 3.1 1.5 0.1]\n",
            " [5.2 2.7 3.9 1.4]]\n",
            "[[5.  3.4 1.6 0.4]\n",
            " [4.8 3.  1.4 0.1]\n",
            " [5.  2.  3.5 1. ]\n",
            " [5.4 3.9 1.7 0.4]\n",
            " [5.6 3.  4.5 1.5]\n",
            " [5.8 2.7 4.1 1. ]\n",
            " [5.1 3.5 1.4 0.3]\n",
            " [5.5 4.2 1.4 0.2]\n",
            " [4.9 3.1 1.5 0.2]\n",
            " [6.8 2.8 4.8 1.4]\n",
            " [5.4 3.  4.5 1.5]\n",
            " [6.9 3.1 4.9 1.5]\n",
            " [5.4 3.4 1.7 0.2]\n",
            " [6.  2.2 4.  1. ]\n",
            " [4.6 3.6 1.  0.2]\n",
            " [5.3 3.7 1.5 0.2]\n",
            " [4.8 3.4 1.6 0.2]\n",
            " [6.2 2.9 4.3 1.3]\n",
            " [6.  2.9 4.5 1.5]\n",
            " [5.5 2.6 4.4 1.2]]\n",
            "[1 1 1 1 0 0 0 1 1 0 0 1 0 0 0 1 0 0 1 1 0 1 1 1 1 1 1 0 0 1 0 0 1 0 0 1 0\n",
            " 0 0 1 1 1 1 1 0 1 0 0 1 0 1 0 1 1 1 1 1 0 1 0 1 0 0 1 0 0 0 1 0 0 0 0 1 1\n",
            " 0 0 0 1 0 1]\n",
            "[0 0 1 0 1 1 0 0 0 1 1 1 0 1 0 0 0 1 1 1]\n"
          ]
        }
      ]
    },
    {
      "cell_type": "code",
      "source": [
        "weights = np.random.normal(size=X_train.shape[1])\n",
        "bias = 1"
      ],
      "metadata": {
        "id": "SNggKhrSeAcb"
      },
      "execution_count": null,
      "outputs": []
    },
    {
      "cell_type": "code",
      "source": [
        "print(weights)"
      ],
      "metadata": {
        "colab": {
          "base_uri": "https://localhost:8080/"
        },
        "id": "YTdHcN-EeAfS",
        "outputId": "17a75cd3-7878-480b-be74-1390ed638e8f"
      },
      "execution_count": null,
      "outputs": [
        {
          "output_type": "stream",
          "name": "stdout",
          "text": [
            "[ 0.11873443  0.69038431 -0.54341481  0.43912712]\n"
          ]
        }
      ]
    },
    {
      "cell_type": "code",
      "source": [
        "learning_rate = 0.1\n",
        "n_epochs = 15"
      ],
      "metadata": {
        "id": "hHav8LOEeAkN"
      },
      "execution_count": null,
      "outputs": []
    },
    {
      "cell_type": "code",
      "source": [
        "np.zeros(weights.shape)"
      ],
      "metadata": {
        "colab": {
          "base_uri": "https://localhost:8080/"
        },
        "id": "hI2MqLXndugd",
        "outputId": "e29ea73b-9ffb-40b1-e5dd-123f41afc4fb"
      },
      "execution_count": null,
      "outputs": [
        {
          "output_type": "execute_result",
          "data": {
            "text/plain": [
              "array([0., 0., 0., 0.])"
            ]
          },
          "metadata": {},
          "execution_count": 10
        }
      ]
    },
    {
      "cell_type": "code",
      "source": [
        "del_w = np.zeros(weights.shape)\n",
        "hist_loss = []\n",
        "hist_accuracy = []\n",
        "\n",
        "for i in range(n_epochs):\n",
        "    # We apply a simple step function, if the output is > 0.5 we predict 1, else 0\n",
        "    output = np.where((X_train.dot(weights)+bias)>0.5, 1, 0)\n",
        "    print(output)\n",
        "\n",
        "    # Compute MSE\n",
        "    error = np.mean((y_train-output)**2)\n",
        "    print(\"Error: \", error)\n",
        "\n",
        "    # Update weights and bias\n",
        "    weights-= learning_rate * np.dot((output-y_train), X_train)\n",
        "    bias += learning_rate * np.sum(np.dot((output-y_train), X_train))\n",
        "    print(\"Weights:\", weights)\n",
        "    print(\"bias:\", bias)\n",
        "\n",
        "    # Calculate MSE\n",
        "    loss = np.mean((output - y_train) ** 2)\n",
        "    hist_loss.append(loss)\n",
        "\n",
        "    # Determine validation accuracy\n",
        "    output_val = np.where(X_val.dot(weights)>0.5, 1, 0)\n",
        "    accuracy = np.mean(np.where(y_val==output_val, 1, 0))\n",
        "    hist_accuracy.append(accuracy)"
      ],
      "metadata": {
        "colab": {
          "base_uri": "https://localhost:8080/"
        },
        "id": "iEgwAoZ-eKkx",
        "outputId": "e44e2a58-24fa-4c2f-ee8c-ac29c78a98a5"
      },
      "execution_count": null,
      "outputs": [
        {
          "output_type": "stream",
          "name": "stdout",
          "text": [
            "[1 1 1 1 1 1 1 1 1 1 1 1 1 1 1 1 1 1 1 1 1 1 1 1 1 1 1 1 1 1 1 1 1 1 1 1 1\n",
            " 1 1 1 1 1 1 1 1 1 1 1 1 1 1 1 1 1 1 1 1 1 1 1 1 1 1 1 1 1 1 1 1 1 1 1 1 1\n",
            " 1 1 1 1 1 1]\n",
            "Error:  0.5\n",
            "Weights: [-19.83126557 -12.92961569  -6.37341481  -0.55087288]\n",
            "bias: 41.38999999999999\n",
            "[0 0 0 0 0 0 0 0 0 0 0 0 0 0 0 0 0 0 0 0 0 0 0 0 0 0 0 0 0 0 0 0 0 0 0 0 0\n",
            " 0 0 0 0 0 0 0 0 0 0 0 0 0 0 0 0 0 0 0 0 0 0 0 0 0 0 0 0 0 0 0 0 0 0 0 0 0\n",
            " 0 0 0 0 0 0]\n",
            "Error:  0.5\n",
            "Weights: [ 3.92873443 -1.79961569 10.57658519  4.78912712]\n",
            "bias: -15.790000000000013\n",
            "[1 1 1 1 1 1 1 1 1 1 1 1 1 1 1 1 1 1 1 1 1 1 1 1 1 1 1 1 1 1 1 1 1 1 1 1 1\n",
            " 1 1 1 1 1 1 1 1 1 1 1 1 1 1 1 1 1 1 1 1 1 1 1 1 1 1 1 1 1 1 1 1 1 1 1 1 1\n",
            " 1 1 1 1 1 1]\n",
            "Error:  0.5\n",
            "Weights: [-16.02126557 -15.41961569   4.74658519   3.79912712]\n",
            "bias: 24.59999999999998\n",
            "[0 0 0 0 0 0 0 0 0 0 0 0 0 0 0 0 0 0 0 0 0 0 0 0 0 0 0 0 0 0 0 0 0 0 0 0 0\n",
            " 0 0 0 0 0 0 0 0 0 0 0 0 0 0 0 0 0 0 0 0 0 0 0 0 0 0 0 0 0 0 0 0 0 0 0 0 0\n",
            " 0 0 0 0 0 0]\n",
            "Error:  0.5\n",
            "Weights: [ 7.73873443 -4.28961569 21.69658519  9.13912712]\n",
            "bias: -32.58000000000003\n",
            "[1 1 1 1 1 1 1 1 1 1 1 1 1 1 1 1 1 1 1 1 1 1 1 1 1 1 1 1 1 1 1 1 1 1 1 1 1\n",
            " 1 1 1 1 1 1 1 1 1 1 1 1 1 1 1 1 1 1 1 1 1 1 1 1 1 1 1 1 1 1 1 1 1 1 1 1 1\n",
            " 1 1 1 1 1 1]\n",
            "Error:  0.5\n",
            "Weights: [-12.21126557 -17.90961569  15.86658519   8.14912712]\n",
            "bias: 7.809999999999967\n",
            "[0 0 0 0 0 0 0 0 0 0 0 0 0 0 0 0 0 0 0 0 0 0 0 0 0 0 0 0 0 0 0 0 0 0 0 0 0\n",
            " 0 0 0 0 0 0 0 0 0 0 0 0 0 0 0 0 0 0 0 0 0 0 0 0 0 0 0 0 0 0 0 0 0 0 0 0 0\n",
            " 0 0 0 0 0 0]\n",
            "Error:  0.5\n",
            "Weights: [11.54873443 -6.77961569 32.81658519 13.48912712]\n",
            "bias: -49.37000000000004\n",
            "[1 1 1 1 1 1 1 1 1 1 1 1 1 1 1 1 1 1 1 1 1 1 1 1 1 1 1 1 1 1 1 1 1 1 1 1 1\n",
            " 1 1 1 1 1 1 1 1 1 1 1 1 1 1 1 1 1 1 1 1 1 1 1 1 1 1 1 1 1 1 1 1 1 1 1 1 1\n",
            " 1 1 1 1 1 1]\n",
            "Error:  0.5\n",
            "Weights: [ -8.40126557 -20.39961569  26.98658519  12.49912712]\n",
            "bias: -8.980000000000047\n",
            "[1 1 1 1 0 0 0 1 1 0 0 1 0 0 0 1 0 0 1 1 0 1 1 1 1 1 1 0 0 1 0 0 1 0 0 1 0\n",
            " 0 0 1 1 1 1 1 0 1 0 0 0 0 1 0 0 1 1 0 1 0 1 0 1 0 0 1 0 0 0 1 0 0 0 0 1 1\n",
            " 0 0 0 1 0 1]\n",
            "Error:  0.0375\n",
            "Weights: [ -6.76126557 -19.59961569  27.99658519  12.83912712]\n",
            "bias: -12.770000000000046\n",
            "[1 1 1 1 0 0 0 1 1 0 0 1 0 0 0 1 0 0 1 1 0 1 1 1 1 1 1 0 0 1 0 0 1 0 0 1 0\n",
            " 0 0 1 1 1 1 1 0 1 0 0 1 0 1 0 1 1 1 1 1 0 1 0 1 0 0 1 0 0 0 1 0 0 0 0 1 1\n",
            " 0 0 0 1 0 1]\n",
            "Error:  0.0\n",
            "Weights: [ -6.76126557 -19.59961569  27.99658519  12.83912712]\n",
            "bias: -12.770000000000046\n",
            "[1 1 1 1 0 0 0 1 1 0 0 1 0 0 0 1 0 0 1 1 0 1 1 1 1 1 1 0 0 1 0 0 1 0 0 1 0\n",
            " 0 0 1 1 1 1 1 0 1 0 0 1 0 1 0 1 1 1 1 1 0 1 0 1 0 0 1 0 0 0 1 0 0 0 0 1 1\n",
            " 0 0 0 1 0 1]\n",
            "Error:  0.0\n",
            "Weights: [ -6.76126557 -19.59961569  27.99658519  12.83912712]\n",
            "bias: -12.770000000000046\n",
            "[1 1 1 1 0 0 0 1 1 0 0 1 0 0 0 1 0 0 1 1 0 1 1 1 1 1 1 0 0 1 0 0 1 0 0 1 0\n",
            " 0 0 1 1 1 1 1 0 1 0 0 1 0 1 0 1 1 1 1 1 0 1 0 1 0 0 1 0 0 0 1 0 0 0 0 1 1\n",
            " 0 0 0 1 0 1]\n",
            "Error:  0.0\n",
            "Weights: [ -6.76126557 -19.59961569  27.99658519  12.83912712]\n",
            "bias: -12.770000000000046\n",
            "[1 1 1 1 0 0 0 1 1 0 0 1 0 0 0 1 0 0 1 1 0 1 1 1 1 1 1 0 0 1 0 0 1 0 0 1 0\n",
            " 0 0 1 1 1 1 1 0 1 0 0 1 0 1 0 1 1 1 1 1 0 1 0 1 0 0 1 0 0 0 1 0 0 0 0 1 1\n",
            " 0 0 0 1 0 1]\n",
            "Error:  0.0\n",
            "Weights: [ -6.76126557 -19.59961569  27.99658519  12.83912712]\n",
            "bias: -12.770000000000046\n",
            "[1 1 1 1 0 0 0 1 1 0 0 1 0 0 0 1 0 0 1 1 0 1 1 1 1 1 1 0 0 1 0 0 1 0 0 1 0\n",
            " 0 0 1 1 1 1 1 0 1 0 0 1 0 1 0 1 1 1 1 1 0 1 0 1 0 0 1 0 0 0 1 0 0 0 0 1 1\n",
            " 0 0 0 1 0 1]\n",
            "Error:  0.0\n",
            "Weights: [ -6.76126557 -19.59961569  27.99658519  12.83912712]\n",
            "bias: -12.770000000000046\n",
            "[1 1 1 1 0 0 0 1 1 0 0 1 0 0 0 1 0 0 1 1 0 1 1 1 1 1 1 0 0 1 0 0 1 0 0 1 0\n",
            " 0 0 1 1 1 1 1 0 1 0 0 1 0 1 0 1 1 1 1 1 0 1 0 1 0 0 1 0 0 0 1 0 0 0 0 1 1\n",
            " 0 0 0 1 0 1]\n",
            "Error:  0.0\n",
            "Weights: [ -6.76126557 -19.59961569  27.99658519  12.83912712]\n",
            "bias: -12.770000000000046\n",
            "[1 1 1 1 0 0 0 1 1 0 0 1 0 0 0 1 0 0 1 1 0 1 1 1 1 1 1 0 0 1 0 0 1 0 0 1 0\n",
            " 0 0 1 1 1 1 1 0 1 0 0 1 0 1 0 1 1 1 1 1 0 1 0 1 0 0 1 0 0 0 1 0 0 0 0 1 1\n",
            " 0 0 0 1 0 1]\n",
            "Error:  0.0\n",
            "Weights: [ -6.76126557 -19.59961569  27.99658519  12.83912712]\n",
            "bias: -12.770000000000046\n"
          ]
        }
      ]
    },
    {
      "cell_type": "code",
      "source": [
        "output\n"
      ],
      "metadata": {
        "colab": {
          "base_uri": "https://localhost:8080/"
        },
        "id": "lh5HsnbPeNwi",
        "outputId": "b5ba8d90-38de-4bd0-9635-ce78f8f81492"
      },
      "execution_count": null,
      "outputs": [
        {
          "output_type": "execute_result",
          "data": {
            "text/plain": [
              "array([1, 1, 1, 1, 0, 0, 0, 1, 1, 0, 0, 1, 0, 0, 0, 1, 0, 0, 1, 1, 0, 1,\n",
              "       1, 1, 1, 1, 1, 0, 0, 1, 0, 0, 1, 0, 0, 1, 0, 0, 0, 1, 1, 1, 1, 1,\n",
              "       0, 1, 0, 0, 1, 0, 1, 0, 1, 1, 1, 1, 1, 0, 1, 0, 1, 0, 0, 1, 0, 0,\n",
              "       0, 1, 0, 0, 0, 0, 1, 1, 0, 0, 0, 1, 0, 1])"
            ]
          },
          "metadata": {},
          "execution_count": 12
        }
      ]
    },
    {
      "cell_type": "code",
      "source": [
        "fig = plt.figure(figsize=(8, 4))\n",
        "a = fig.add_subplot(1,2,1)\n",
        "imgplot = plt.plot(hist_loss)\n",
        "plt.xlabel('epochs')\n",
        "a.set_title('Training loss')\n",
        "\n",
        "a=fig.add_subplot(1,2,2)\n",
        "imgplot = plt.plot(hist_accuracy)\n",
        "plt.xlabel('epochs')\n",
        "a.set_title('Validation Accuracy')\n",
        "plt.show()"
      ],
      "metadata": {
        "colab": {
          "base_uri": "https://localhost:8080/",
          "height": 410
        },
        "id": "yz8QgKgVeN4_",
        "outputId": "5593c7fe-a44c-4b48-de7c-c59cf841fdea"
      },
      "execution_count": null,
      "outputs": [
        {
          "output_type": "display_data",
          "data": {
            "text/plain": [
              "<Figure size 800x400 with 2 Axes>"
            ],
            "image/png": "[encoded data removed]"
          },
          "metadata": {}
        }
      ]
    }
  ]
}